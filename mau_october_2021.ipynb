{
 "cells": [
  {
   "cell_type": "markdown",
   "id": "66a95bbe-abf0-4d60-8cd7-09aa04493003",
   "metadata": {},
   "source": [
    "### Решение основывается на том, что представленные коэффициенты удержания новых пользователей одинаковые для каждой когорты (подробнее на тепловой карте). MAU расчитывается как количество новых пользователей в целевом месяце + сумма произведений предыдущих месяцев на соответствующие им значение retention (относительно целевого месяца)."
   ]
  },
  {
   "cell_type": "code",
   "execution_count": 1,
   "id": "94cf0265-1850-484b-ad3c-edcb757cd6ad",
   "metadata": {},
   "outputs": [
    {
     "data": {
      "text/html": [
       "<img src=\"https://i.postimg.cc/Gt8fd974/Dashboard-1.png\" width=\"800\"/>"
      ],
      "text/plain": [
       "<IPython.core.display.Image object>"
      ]
     },
     "metadata": {},
     "output_type": "display_data"
    }
   ],
   "source": [
    "# Тепловая карта\n",
    "from IPython.display import Image\n",
    "display(Image(url='https://i.postimg.cc/Gt8fd974/Dashboard-1.png', width = 800))"
   ]
  },
  {
   "cell_type": "code",
   "execution_count": 2,
   "id": "0cd99b9c-4e58-4d78-865d-97cc6a3aa62a",
   "metadata": {},
   "outputs": [],
   "source": [
    "# N-Month Retention\n",
    "retention_rates = {\n",
    "    0: 100,\n",
    "    1: 20.53,\n",
    "    2: 18.12,\n",
    "    3: 17.15,\n",
    "    4: 15.95,\n",
    "    5: 14.40,\n",
    "    6: 14.00,\n",
    "    7: 14.00,\n",
    "    8: 14.00,\n",
    "    9: 14.00,\n",
    "    10: 14.00,\n",
    "    11: 14.00,\n",
    "    12: 14.00\n",
    "}\n",
    "\n",
    "# Количество новых пользователей по месяцам в 2021 году\n",
    "new_users = {\n",
    "    \"Январь\": 12000,\n",
    "    \"Февраль\": 11500,\n",
    "    \"Март\": 10000,\n",
    "    \"Апрель\": 17000,\n",
    "    \"Май\": 14350,\n",
    "    \"Июнь\": 12200,\n",
    "    \"Июль\": 11100,\n",
    "    \"Август\": 14784,\n",
    "    \"Сентябрь\": 13347,\n",
    "    \"Октябрь\": 20220\n",
    "}\n"
   ]
  },
  {
   "cell_type": "code",
   "execution_count": 3,
   "id": "bc7a7897-9b52-431e-a8b8-7155056a0a5e",
   "metadata": {},
   "outputs": [],
   "source": [
    "# Начинаем с количества новых пользователей в октябре\n",
    "mau_october = new_users['Октябрь']  "
   ]
  },
  {
   "cell_type": "code",
   "execution_count": 4,
   "id": "193d89a6-155d-42d6-8b32-fd749255481b",
   "metadata": {},
   "outputs": [],
   "source": [
    "# Добавляем вклад от предыдущих месяцев, используя retention\n",
    "for month_offset, retention_rate in retention_rates.items():\n",
    "    if month_offset == 0:\n",
    "        continue  # Пропускаем нулевой месяц, так как он уже учтен\n",
    "    # Перебираем месяцы в обратном порядке, чтобы применить соответствующие retention\n",
    "    if month_offset <= 9:  # Учитываем только пользователей, начиная с января и до сентября включительно\n",
    "        # Ключ месяца для доступа к данным о новых пользователях\n",
    "        month_key = list(new_users.keys())[9 - month_offset]\n",
    "        # Расчет вклада каждой когорты в MAU\n",
    "        mau_october += new_users[month_key] * (retention_rate / 100)"
   ]
  },
  {
   "cell_type": "code",
   "execution_count": 5,
   "id": "6ea796fd-4f16-4e61-91d6-358ec22d8ca0",
   "metadata": {},
   "outputs": [
    {
     "data": {
      "text/plain": [
       "38625"
      ]
     },
     "execution_count": 5,
     "metadata": {},
     "output_type": "execute_result"
    }
   ],
   "source": [
    "# Ожидаемый MAU продукта X в октябре 2021\n",
    "round(mau_october)"
   ]
  }
 ],
 "metadata": {
  "kernelspec": {
   "display_name": "Python 3 (ipykernel)",
   "language": "python",
   "name": "python3"
  },
  "language_info": {
   "codemirror_mode": {
    "name": "ipython",
    "version": 3
   },
   "file_extension": ".py",
   "mimetype": "text/x-python",
   "name": "python",
   "nbconvert_exporter": "python",
   "pygments_lexer": "ipython3",
   "version": "3.11.5"
  }
 },
 "nbformat": 4,
 "nbformat_minor": 5
}
